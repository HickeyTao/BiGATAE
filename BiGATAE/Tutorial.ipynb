{
 "cells": [
  {
   "cell_type": "code",
   "execution_count": null,
   "id": "daea0eba",
   "metadata": {},
   "outputs": [],
   "source": [
    "import model\n",
    "import torch\n",
    "import scanpy as sc\n",
    "import anndata as ad\n",
    "import dataloader as dl\n",
    "from utils.get_edge_index import get_edge_index\n",
    "from paste_ import get_pi\n",
    "from tqdm import tqdm"
   ]
  },
  {
   "cell_type": "code",
   "execution_count": null,
   "id": "e774eac0",
   "metadata": {},
   "outputs": [],
   "source": [
    "# Specify the ID of the slice\n",
    "data_path='/home/sxa/Datasets/Human_DLPFC/'\n",
    "target_slice_id=151676\n",
    "adjacent_slice_id=151675"
   ]
  },
  {
   "cell_type": "code",
   "execution_count": null,
   "id": "a8dd986e",
   "metadata": {},
   "outputs": [],
   "source": [
    "# get data\n",
    "target_slice = dl.load_data(data_path,target_slice_id) \n",
    "adjacent_slice = dl.load_data(data_path,adjacent_slice_id) "
   ]
  },
  {
   "cell_type": "code",
   "execution_count": null,
   "id": "2132521e",
   "metadata": {},
   "outputs": [],
   "source": [
    "# get the numbers of spots and genes\n",
    "target_slice_spots_num,starget_slice_genes_num = target_slice.X.shape[0],target_slice.X.shape[1]\n",
    "adjacent_slice_spots_num,adjacent_slice_genes_num = adjacent_slice.X.shape[0],adjacent_slice.X.shape[1]"
   ]
  },
  {
   "cell_type": "code",
   "execution_count": null,
   "id": "476a81f9",
   "metadata": {},
   "outputs": [],
   "source": [
    "# get bipartite graph\n",
    "slice1_slice2_pi = get_pi(target_slice, adjacent_slice)\n",
    "slice1_slice2_pi_edge_index = get_edge_index(slice1_slice2_pi)"
   ]
  },
  {
   "cell_type": "code",
   "execution_count": null,
   "id": "4eb089cb",
   "metadata": {},
   "outputs": [],
   "source": [
    "# hyperparameter setting\n",
    "hidden_dim = 1000\n",
    "epochs = 1000\n",
    "mse_loss = nn.MSELoss()\n",
    "device = torch.device('cuda:0')\n",
    "ae_optim = optim.Adam(model_.parameters(), lr=0.0001)"
   ]
  },
  {
   "cell_type": "code",
   "execution_count": null,
   "id": "482a55bc",
   "metadata": {},
   "outputs": [],
   "source": [
    "# definition model\n",
    "model_ = model.model(target_slice_spots_num, adjacent_slice_spots_num, starget_slice_genes_num, adjacent_slice_genes_num, hidden_dim).to(device)"
   ]
  },
  {
   "cell_type": "code",
   "execution_count": null,
   "id": "f3c71de1",
   "metadata": {},
   "outputs": [],
   "source": [
    "# train\n",
    "target_slice_X = torch.tensor(target_slice.X).to(device)\n",
    "adjacent_slice_X = torch.tensor(adjacent_slice.X).to(device)\n",
    "\n",
    "for epoch in tqdm(range(epochs), desc=\"Training\", unit=\"epoch\"):\n",
    "    # Forward pass\n",
    "    _, recreated_slice1_X = model_(slice1_slice2_pi_edge_index.to(device), target_slice_X, adjacent_slice_X)\n",
    "    \n",
    "    # Compute the loss\n",
    "    loss = mse_loss(recreated_slice1_X, target_slice_X)\n",
    "    \n",
    "    # Backward pass and optimization\n",
    "    ae_optim.zero_grad()\n",
    "    loss.backward()\n",
    "    ae_optim.step()\n",
    "    \n",
    "    # Update the tqdm progress bar with the current loss value\n",
    "    tqdm.write(f\"Epoch {epoch}, Loss: {loss.item():.4f}\")"
   ]
  },
  {
   "cell_type": "code",
   "execution_count": null,
   "id": "c5bf7ed8",
   "metadata": {},
   "outputs": [],
   "source": [
    "# get enhanced data and write\n",
    "model_.eval()\n",
    "target_slice.obsm['enhanced_data']=model_.encodermodel_(slice1_slice2_pi_edge_index.to(device), target_slice_X, adjacent_slice_X).detach().cpu().numpy()\n",
    "target_slice.write_h5ad('./tmp_data/Human_DLPFC_enhanced_data/151676.h5ad')"
   ]
  },
  {
   "cell_type": "code",
   "execution_count": null,
   "id": "0775b600",
   "metadata": {},
   "outputs": [],
   "source": []
  }
 ],
 "metadata": {
  "kernelspec": {
   "display_name": "sx",
   "language": "python",
   "name": "sx"
  },
  "language_info": {
   "codemirror_mode": {
    "name": "ipython",
    "version": 3
   },
   "file_extension": ".py",
   "mimetype": "text/x-python",
   "name": "python",
   "nbconvert_exporter": "python",
   "pygments_lexer": "ipython3",
   "version": "3.9.0"
  }
 },
 "nbformat": 4,
 "nbformat_minor": 5
}
