{
 "cells": [
  {
   "cell_type": "code",
   "execution_count": null,
   "id": "daea0eba",
   "metadata": {},
   "outputs": [],
   "source": [
    "import model\n",
    "import torch\n",
    "import scanpy as sc\n",
    "import anndata as ad\n",
    "import dataloader as dl\n",
    "from utils.get_edge_index import get_edge_index\n",
    "from paste_ import get_pi"
   ]
  },
  {
   "cell_type": "code",
   "execution_count": null,
   "id": "e774eac0",
   "metadata": {},
   "outputs": [],
   "source": [
    "data_path='/home/sxa/Datasets/Human_DLPFC/'\n",
    "target_slice_id=151676\n",
    "adjacent_slice_id=151675"
   ]
  },
  {
   "cell_type": "code",
   "execution_count": null,
   "id": "a8dd986e",
   "metadata": {},
   "outputs": [],
   "source": [
    "target_slice = dl.load_data(data_path,target_slice_id) \n",
    "adjacent_slice = dl.load_data(data_path,adjacent_slice_id) "
   ]
  },
  {
   "cell_type": "code",
   "execution_count": null,
   "id": "2132521e",
   "metadata": {},
   "outputs": [],
   "source": [
    "target_slice_spots_num,starget_slice_genes_num = target_slice.X.shape[0],target_slice.X.shape[1]\n",
    "adjacent_slice_spots_num,adjacent_slice_genes_num = adjacent_slice.X.shape[0],adjacent_slice.X.shape[1]"
   ]
  },
  {
   "cell_type": "code",
   "execution_count": null,
   "id": "476a81f9",
   "metadata": {},
   "outputs": [],
   "source": [
    "slice1_slice2_pi = get_pi(target_slice, adjacent_slice)\n",
    "slice1_slice2_pi_edge_index = get_edge_index(slice1_slice2_pi)"
   ]
  },
  {
   "cell_type": "code",
   "execution_count": null,
   "id": "4eb089cb",
   "metadata": {},
   "outputs": [],
   "source": [
    "hidden_dim = 1000\n",
    "device = torch.device('cuda:0')"
   ]
  },
  {
   "cell_type": "code",
   "execution_count": null,
   "id": "482a55bc",
   "metadata": {},
   "outputs": [],
   "source": [
    "model_ = model.model(target_slice_spots_num, adjacent_slice_spots_num, starget_slice_genes_num, adjacent_slice_genes_num, hidden_dim).to(device)"
   ]
  },
  {
   "cell_type": "code",
   "execution_count": null,
   "id": "045909a5",
   "metadata": {},
   "outputs": [],
   "source": [
    "# train\n",
    "epochs = 1000\n",
    "mse_loss = nn.MSELoss()\n",
    "\n",
    "ae_optim = optim.Adam(model_.parameters(), lr=0.0001)\n",
    "target_slice_X = torch.tensor(target_slice.X).to(device)\n",
    "adjacent_slice_X = torch.tensor(adjacent_slice.X).to(device)"
   ]
  },
  {
   "cell_type": "code",
   "execution_count": null,
   "id": "c5bf7ed8",
   "metadata": {},
   "outputs": [],
   "source": [
    "for epoch in range(epochs):\n",
    "    _, recreated_slice1_X = model_(slice1_slice2_pi_edge_index.to(device), target_slice_X, adjacent_slice_X) # slice1_edge_index.to(device)\n",
    "    loss = mse_loss(recreated_slice1_X, target_slice_X)\n",
    "    ae_optim.zero_grad()\n",
    "    loss.backward()\n",
    "    ae_optim.step()\n",
    "    print(\"epoch=\", epoch, \" loss=\", loss.data.float())"
   ]
  },
  {
   "cell_type": "code",
   "execution_count": null,
   "id": "0775b600",
   "metadata": {},
   "outputs": [],
   "source": []
  }
 ],
 "metadata": {
  "kernelspec": {
   "display_name": "sx",
   "language": "python",
   "name": "sx"
  },
  "language_info": {
   "codemirror_mode": {
    "name": "ipython",
    "version": 3
   },
   "file_extension": ".py",
   "mimetype": "text/x-python",
   "name": "python",
   "nbconvert_exporter": "python",
   "pygments_lexer": "ipython3",
   "version": "3.9.0"
  }
 },
 "nbformat": 4,
 "nbformat_minor": 5
}
